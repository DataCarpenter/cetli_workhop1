{
 "cells": [
  {
   "cell_type": "code",
   "execution_count": 15,
   "metadata": {
    "collapsed": false
   },
   "outputs": [],
   "source": [
    "import pandas as pd\n",
    "import numpy as np\n",
    "from matplotlib import pyplot as plt\n",
    "%matplotlib inline\n",
    "test=pd.read_csv('Test.csv')\n",
    "train=pd.read_csv('Train.csv')"
   ]
  },
  {
   "cell_type": "markdown",
   "metadata": {},
   "source": [
    "So, lets  create a baseline submission file, concentratino on the format, rather than the actual machine learning. "
   ]
  },
  {
   "cell_type": "markdown",
   "metadata": {
    "collapsed": true
   },
   "source": [
    "First, we collect the rownames of the soon-to-be submission file"
   ]
  },
  {
   "cell_type": "code",
   "execution_count": 2,
   "metadata": {
    "collapsed": true
   },
   "outputs": [],
   "source": [
    "rownames= test['objectId'].tolist()"
   ]
  },
  {
   "cell_type": "markdown",
   "metadata": {},
   "source": [
    "Then, makin sure we use unicode everywhere..."
   ]
  },
  {
   "cell_type": "code",
   "execution_count": 3,
   "metadata": {
    "collapsed": false
   },
   "outputs": [
    {
     "data": {
      "text/plain": [
       "unicode"
      ]
     },
     "execution_count": 3,
     "metadata": {},
     "output_type": "execute_result"
    }
   ],
   "source": [
    "def create_unicode(text):\n",
    "    return text.decode('utf-8')\n",
    "train['product_uni']= train['product'].apply(create_unicode)\n",
    "\n",
    "product_names_uni=train['product_uni'].value_counts().index.tolist()\n",
    "type(product_names_uni[0])"
   ]
  },
  {
   "cell_type": "markdown",
   "metadata": {
    "collapsed": true
   },
   "source": [
    "Lets use our recently aquired knowledge on datetime to filter the training dataset. In this example, we want to create our submission based on training data onll form the months after may. "
   ]
  },
  {
   "cell_type": "code",
   "execution_count": 4,
   "metadata": {
    "collapsed": false
   },
   "outputs": [],
   "source": [
    "import datetime\n",
    "def convert_time(date_string):\n",
    "    return  datetime.datetime.strptime(date_string, '%Y-%m-%dT%H:%M:%S.%fZ')\n",
    "\n",
    "train['datetime']=train['createdAt'].apply(convert_time)\n",
    "train['month']= train['datetime'].apply(lambda x: x.month)"
   ]
  },
  {
   "cell_type": "markdown",
   "metadata": {},
   "source": [
    "What is the distribution of the newly creates month column?"
   ]
  },
  {
   "cell_type": "code",
   "execution_count": 5,
   "metadata": {
    "collapsed": false
   },
   "outputs": [
    {
     "data": {
      "text/plain": [
       "4    5205\n",
       "1    2903\n",
       "5    2890\n",
       "8    2849\n",
       "6    2288\n",
       "7    2225\n",
       "3    2091\n",
       "2    1845\n",
       "Name: month, dtype: int64"
      ]
     },
     "execution_count": 5,
     "metadata": {},
     "output_type": "execute_result"
    }
   ],
   "source": [
    "train.month.value_counts()"
   ]
  },
  {
   "cell_type": "markdown",
   "metadata": {},
   "source": [
    "Doing the actual filtering:"
   ]
  },
  {
   "cell_type": "code",
   "execution_count": 8,
   "metadata": {
    "collapsed": false
   },
   "outputs": [
    {
     "data": {
      "text/html": [
       "<div>\n",
       "<table border=\"1\" class=\"dataframe\">\n",
       "  <thead>\n",
       "    <tr style=\"text-align: right;\">\n",
       "      <th></th>\n",
       "      <th>owner.objectId</th>\n",
       "      <th>cetliId.objectId</th>\n",
       "      <th>objectId</th>\n",
       "      <th>product</th>\n",
       "      <th>quantity</th>\n",
       "      <th>createdAt</th>\n",
       "      <th>updatedAt</th>\n",
       "      <th>selected</th>\n",
       "      <th>deleted</th>\n",
       "      <th>crossedOutLocation.latitude</th>\n",
       "      <th>crossedOutLocation.longitude</th>\n",
       "      <th>product_uni</th>\n",
       "      <th>datetime</th>\n",
       "      <th>month</th>\n",
       "    </tr>\n",
       "  </thead>\n",
       "  <tbody>\n",
       "    <tr>\n",
       "      <th>2</th>\n",
       "      <td>nlslMwDjE5</td>\n",
       "      <td>ARt36Dh1Oa</td>\n",
       "      <td>hXi0olUEAF</td>\n",
       "      <td>liszt</td>\n",
       "      <td>1</td>\n",
       "      <td>2016-07-30T08:57:19.444Z</td>\n",
       "      <td>2016-08-07T09:08:00.002Z</td>\n",
       "      <td>1</td>\n",
       "      <td>1</td>\n",
       "      <td>null</td>\n",
       "      <td>null</td>\n",
       "      <td>liszt</td>\n",
       "      <td>2016-07-30 08:57:19.444</td>\n",
       "      <td>7</td>\n",
       "    </tr>\n",
       "    <tr>\n",
       "      <th>7</th>\n",
       "      <td>wTWAFk66Eh</td>\n",
       "      <td>lsiPcwCTYs</td>\n",
       "      <td>hnByTGmFZz</td>\n",
       "      <td>szalvéta</td>\n",
       "      <td>1</td>\n",
       "      <td>2016-08-15T08:17:16.733Z</td>\n",
       "      <td>2016-08-19T12:45:43.374Z</td>\n",
       "      <td>0</td>\n",
       "      <td>1</td>\n",
       "      <td>null</td>\n",
       "      <td>null</td>\n",
       "      <td>szalvéta</td>\n",
       "      <td>2016-08-15 08:17:16.733</td>\n",
       "      <td>8</td>\n",
       "    </tr>\n",
       "    <tr>\n",
       "      <th>15</th>\n",
       "      <td>Z7MldVzFnN</td>\n",
       "      <td>2JMRDx90HK</td>\n",
       "      <td>7vcQvaq377</td>\n",
       "      <td>öblítő</td>\n",
       "      <td>1</td>\n",
       "      <td>2016-07-30T11:23:52.565Z</td>\n",
       "      <td>2016-08-05T20:08:22.860Z</td>\n",
       "      <td>0</td>\n",
       "      <td>1</td>\n",
       "      <td>null</td>\n",
       "      <td>null</td>\n",
       "      <td>öblítő</td>\n",
       "      <td>2016-07-30 11:23:52.565</td>\n",
       "      <td>7</td>\n",
       "    </tr>\n",
       "    <tr>\n",
       "      <th>18</th>\n",
       "      <td>boYCFnqBR3</td>\n",
       "      <td>whjjmVL1EZ</td>\n",
       "      <td>8ALz8OXpBs</td>\n",
       "      <td>málna</td>\n",
       "      <td>2</td>\n",
       "      <td>2016-07-02T06:14:04.040Z</td>\n",
       "      <td>2016-07-02T06:14:04.040Z</td>\n",
       "      <td>0</td>\n",
       "      <td>null</td>\n",
       "      <td>null</td>\n",
       "      <td>null</td>\n",
       "      <td>málna</td>\n",
       "      <td>2016-07-02 06:14:04.040</td>\n",
       "      <td>7</td>\n",
       "    </tr>\n",
       "    <tr>\n",
       "      <th>19</th>\n",
       "      <td>eEbuLkHpQG</td>\n",
       "      <td>tju9qVFO1n</td>\n",
       "      <td>57HYnNT89k</td>\n",
       "      <td>tej</td>\n",
       "      <td>1</td>\n",
       "      <td>2016-07-02T05:03:44.207Z</td>\n",
       "      <td>2016-07-12T20:12:07.513Z</td>\n",
       "      <td>0</td>\n",
       "      <td>1</td>\n",
       "      <td>null</td>\n",
       "      <td>null</td>\n",
       "      <td>tej</td>\n",
       "      <td>2016-07-02 05:03:44.207</td>\n",
       "      <td>7</td>\n",
       "    </tr>\n",
       "  </tbody>\n",
       "</table>\n",
       "</div>"
      ],
      "text/plain": [
       "   owner.objectId cetliId.objectId    objectId   product  quantity  \\\n",
       "2      nlslMwDjE5       ARt36Dh1Oa  hXi0olUEAF     liszt         1   \n",
       "7      wTWAFk66Eh       lsiPcwCTYs  hnByTGmFZz  szalvéta         1   \n",
       "15     Z7MldVzFnN       2JMRDx90HK  7vcQvaq377    öblítő         1   \n",
       "18     boYCFnqBR3       whjjmVL1EZ  8ALz8OXpBs     málna         2   \n",
       "19     eEbuLkHpQG       tju9qVFO1n  57HYnNT89k       tej         1   \n",
       "\n",
       "                   createdAt                 updatedAt selected deleted  \\\n",
       "2   2016-07-30T08:57:19.444Z  2016-08-07T09:08:00.002Z        1       1   \n",
       "7   2016-08-15T08:17:16.733Z  2016-08-19T12:45:43.374Z        0       1   \n",
       "15  2016-07-30T11:23:52.565Z  2016-08-05T20:08:22.860Z        0       1   \n",
       "18  2016-07-02T06:14:04.040Z  2016-07-02T06:14:04.040Z        0    null   \n",
       "19  2016-07-02T05:03:44.207Z  2016-07-12T20:12:07.513Z        0       1   \n",
       "\n",
       "   crossedOutLocation.latitude crossedOutLocation.longitude product_uni  \\\n",
       "2                         null                         null       liszt   \n",
       "7                         null                         null    szalvéta   \n",
       "15                        null                         null      öblítő   \n",
       "18                        null                         null       málna   \n",
       "19                        null                         null         tej   \n",
       "\n",
       "                  datetime  month  \n",
       "2  2016-07-30 08:57:19.444      7  \n",
       "7  2016-08-15 08:17:16.733      8  \n",
       "15 2016-07-30 11:23:52.565      7  \n",
       "18 2016-07-02 06:14:04.040      7  \n",
       "19 2016-07-02 05:03:44.207      7  "
      ]
     },
     "execution_count": 8,
     "metadata": {},
     "output_type": "execute_result"
    }
   ],
   "source": [
    "filtered_train=train.loc[train.month >6]\n",
    "filtered_train.head(5)"
   ]
  },
  {
   "cell_type": "markdown",
   "metadata": {},
   "source": [
    "What are the frequencies in the filtered column?"
   ]
  },
  {
   "cell_type": "code",
   "execution_count": 9,
   "metadata": {
    "collapsed": false,
    "scrolled": true
   },
   "outputs": [
    {
     "data": {
      "text/plain": [
       "tej                       239\n",
       "kenyér                    205\n",
       "sajt                      159\n",
       "tejföl                    138\n",
       "tojás                     132\n",
       "hagyma                    118\n",
       "ásványvíz                 117\n",
       "burgonya                  117\n",
       "paradicsom                111\n",
       "wc papír                  108\n",
       "felvágott                 103\n",
       "vaj                        75\n",
       "joghurt                    72\n",
       "olaj                       63\n",
       "paprika                    63\n",
       "tusfürdő                   62\n",
       "öblítő                     58\n",
       "uborka                     57\n",
       "kávé                       56\n",
       "liszt                      54\n",
       "gyümölcs                   54\n",
       "fogkrém                    54\n",
       "kukás zsák                 53\n",
       "csirkemell                 53\n",
       "papírtörlő                 53\n",
       "virsli                     48\n",
       "darált hús                 47\n",
       "üdítő                      47\n",
       "szalámi                    46\n",
       "mosópor                    42\n",
       "                         ... \n",
       "tarja                       2\n",
       "erős paprika                2\n",
       "száraz törlő                2\n",
       "szájvíz                     2\n",
       "dohány                      2\n",
       "vodka                       2\n",
       "torma                       2\n",
       "zabkeksz                    2\n",
       "retek                       2\n",
       "kalcium                     1\n",
       "halkonzerv                  1\n",
       "pepsi                       1\n",
       "olajbogyó                   1\n",
       "zsíroldó                    1\n",
       "pillanatragasztó            1\n",
       "tárkony                     1\n",
       "gyanta                      1\n",
       "tejpor                      1\n",
       "szivacsos törlőkendő        1\n",
       "pálinka                     1\n",
       "arckrém                     1\n",
       "szennyes zacskó             1\n",
       "habfürdő                    1\n",
       "mexikói zöldség             1\n",
       "kontaktlencse folyadék      1\n",
       "rovarirtó                   1\n",
       "tonic                       1\n",
       "kölesgolyó                  1\n",
       "mosógép tisztító            1\n",
       "tönkölyös rúd               1\n",
       "Name: product_uni, dtype: int64"
      ]
     },
     "execution_count": 9,
     "metadata": {},
     "output_type": "execute_result"
    }
   ],
   "source": [
    "filtered_train['product_uni'].value_counts()"
   ]
  },
  {
   "cell_type": "markdown",
   "metadata": {},
   "source": [
    "lets plot the distribution of  these frequency numbers, just because we can."
   ]
  },
  {
   "cell_type": "code",
   "execution_count": 16,
   "metadata": {
    "collapsed": false
   },
   "outputs": [
    {
     "data": {
      "image/png": "[encoded data removed]",
      "text/plain": [
       "<matplotlib.figure.Figure at 0x7f3745604890>"
      ]
     },
     "metadata": {},
     "output_type": "display_data"
    }
   ],
   "source": [
    "freq_counts=filtered_train['product_uni'].value_counts()\n",
    "plt.hist(freq_counts, bins=50)\n",
    "plt.show()"
   ]
  },
  {
   "cell_type": "markdown",
   "metadata": {},
   "source": [
    "In the sample submission in every row we want to \"predict\" this distribution. In other words:for every product we want to predict simply its frequency. First we need an empty dataframe with the rigth  rownames and column names.  "
   ]
  },
  {
   "cell_type": "code",
   "execution_count": 17,
   "metadata": {
    "collapsed": false
   },
   "outputs": [],
   "source": [
    "submission= pd.DataFrame(0,index=rownames, columns=product_names_uni)"
   ]
  },
  {
   "cell_type": "markdown",
   "metadata": {},
   "source": [
    "Ce now create a list of number which will represent our prediction for every line. Note, that not every product are represented in the frequency list, (because of the filtering ) for those, we can insert an \"average\" number, say 15.  "
   ]
  },
  {
   "cell_type": "code",
   "execution_count": 18,
   "metadata": {
    "collapsed": false
   },
   "outputs": [],
   "source": [
    "numbers=[]\n",
    "for prod in product_names_uni:\n",
    "    if prod in freq_counts.index:\n",
    "        numbers.extend([freq_counts[prod]])\n",
    "    else:\n",
    "        numbers.extend([15])\n",
    "        "
   ]
  },
  {
   "cell_type": "markdown",
   "metadata": {},
   "source": [
    "now pushing this number list inte every row of our submission dataframe."
   ]
  },
  {
   "cell_type": "code",
   "execution_count": 19,
   "metadata": {
    "collapsed": false
   },
   "outputs": [],
   "source": [
    "for obj_id in rownames:\n",
    "    submission.loc[obj_id] = numbers"
   ]
  },
  {
   "cell_type": "code",
   "execution_count": 20,
   "metadata": {
    "collapsed": false,
    "scrolled": true
   },
   "outputs": [
    {
     "data": {
      "text/html": [
       "<div>\n",
       "<table border=\"1\" class=\"dataframe\">\n",
       "  <thead>\n",
       "    <tr style=\"text-align: right;\">\n",
       "      <th></th>\n",
       "      <th>tej</th>\n",
       "      <th>kenyér</th>\n",
       "      <th>sajt</th>\n",
       "      <th>tejföl</th>\n",
       "      <th>tojás</th>\n",
       "      <th>ásványvíz</th>\n",
       "      <th>felvágott</th>\n",
       "      <th>wc papír</th>\n",
       "      <th>hagyma</th>\n",
       "      <th>paradicsom</th>\n",
       "      <th>...</th>\n",
       "      <th>körömkefe</th>\n",
       "      <th>köles</th>\n",
       "      <th>rovarirtó</th>\n",
       "      <th>orrspray</th>\n",
       "      <th>torta</th>\n",
       "      <th>tonic</th>\n",
       "      <th>pepsi</th>\n",
       "      <th>szennyes zacskó</th>\n",
       "      <th>unicum</th>\n",
       "      <th>tönkölyös rúd</th>\n",
       "    </tr>\n",
       "  </thead>\n",
       "  <tbody>\n",
       "    <tr>\n",
       "      <th>ZlAFjm45Bd</th>\n",
       "      <td>239</td>\n",
       "      <td>205</td>\n",
       "      <td>159</td>\n",
       "      <td>138</td>\n",
       "      <td>132</td>\n",
       "      <td>117</td>\n",
       "      <td>103</td>\n",
       "      <td>108</td>\n",
       "      <td>118</td>\n",
       "      <td>111</td>\n",
       "      <td>...</td>\n",
       "      <td>15</td>\n",
       "      <td>15</td>\n",
       "      <td>1</td>\n",
       "      <td>15</td>\n",
       "      <td>15</td>\n",
       "      <td>1</td>\n",
       "      <td>1</td>\n",
       "      <td>1</td>\n",
       "      <td>15</td>\n",
       "      <td>1</td>\n",
       "    </tr>\n",
       "    <tr>\n",
       "      <th>A8F6RYfsoT</th>\n",
       "      <td>239</td>\n",
       "      <td>205</td>\n",
       "      <td>159</td>\n",
       "      <td>138</td>\n",
       "      <td>132</td>\n",
       "      <td>117</td>\n",
       "      <td>103</td>\n",
       "      <td>108</td>\n",
       "      <td>118</td>\n",
       "      <td>111</td>\n",
       "      <td>...</td>\n",
       "      <td>15</td>\n",
       "      <td>15</td>\n",
       "      <td>1</td>\n",
       "      <td>15</td>\n",
       "      <td>15</td>\n",
       "      <td>1</td>\n",
       "      <td>1</td>\n",
       "      <td>1</td>\n",
       "      <td>15</td>\n",
       "      <td>1</td>\n",
       "    </tr>\n",
       "    <tr>\n",
       "      <th>ZlfbXyyznT</th>\n",
       "      <td>239</td>\n",
       "      <td>205</td>\n",
       "      <td>159</td>\n",
       "      <td>138</td>\n",
       "      <td>132</td>\n",
       "      <td>117</td>\n",
       "      <td>103</td>\n",
       "      <td>108</td>\n",
       "      <td>118</td>\n",
       "      <td>111</td>\n",
       "      <td>...</td>\n",
       "      <td>15</td>\n",
       "      <td>15</td>\n",
       "      <td>1</td>\n",
       "      <td>15</td>\n",
       "      <td>15</td>\n",
       "      <td>1</td>\n",
       "      <td>1</td>\n",
       "      <td>1</td>\n",
       "      <td>15</td>\n",
       "      <td>1</td>\n",
       "    </tr>\n",
       "    <tr>\n",
       "      <th>72Imeo68mP</th>\n",
       "      <td>239</td>\n",
       "      <td>205</td>\n",
       "      <td>159</td>\n",
       "      <td>138</td>\n",
       "      <td>132</td>\n",
       "      <td>117</td>\n",
       "      <td>103</td>\n",
       "      <td>108</td>\n",
       "      <td>118</td>\n",
       "      <td>111</td>\n",
       "      <td>...</td>\n",
       "      <td>15</td>\n",
       "      <td>15</td>\n",
       "      <td>1</td>\n",
       "      <td>15</td>\n",
       "      <td>15</td>\n",
       "      <td>1</td>\n",
       "      <td>1</td>\n",
       "      <td>1</td>\n",
       "      <td>15</td>\n",
       "      <td>1</td>\n",
       "    </tr>\n",
       "    <tr>\n",
       "      <th>lnTCMLqxTB</th>\n",
       "      <td>239</td>\n",
       "      <td>205</td>\n",
       "      <td>159</td>\n",
       "      <td>138</td>\n",
       "      <td>132</td>\n",
       "      <td>117</td>\n",
       "      <td>103</td>\n",
       "      <td>108</td>\n",
       "      <td>118</td>\n",
       "      <td>111</td>\n",
       "      <td>...</td>\n",
       "      <td>15</td>\n",
       "      <td>15</td>\n",
       "      <td>1</td>\n",
       "      <td>15</td>\n",
       "      <td>15</td>\n",
       "      <td>1</td>\n",
       "      <td>1</td>\n",
       "      <td>1</td>\n",
       "      <td>15</td>\n",
       "      <td>1</td>\n",
       "    </tr>\n",
       "  </tbody>\n",
       "</table>\n",
       "<p>5 rows × 260 columns</p>\n",
       "</div>"
      ],
      "text/plain": [
       "            tej  kenyér  sajt  tejföl  tojás  ásványvíz  felvágott  wc papír  \\\n",
       "ZlAFjm45Bd  239     205   159     138    132        117        103       108   \n",
       "A8F6RYfsoT  239     205   159     138    132        117        103       108   \n",
       "ZlfbXyyznT  239     205   159     138    132        117        103       108   \n",
       "72Imeo68mP  239     205   159     138    132        117        103       108   \n",
       "lnTCMLqxTB  239     205   159     138    132        117        103       108   \n",
       "\n",
       "            hagyma  paradicsom      ...        körömkefe  köles  rovarirtó  \\\n",
       "ZlAFjm45Bd     118         111      ...               15     15          1   \n",
       "A8F6RYfsoT     118         111      ...               15     15          1   \n",
       "ZlfbXyyznT     118         111      ...               15     15          1   \n",
       "72Imeo68mP     118         111      ...               15     15          1   \n",
       "lnTCMLqxTB     118         111      ...               15     15          1   \n",
       "\n",
       "            orrspray  torta  tonic  pepsi  szennyes zacskó  unicum  \\\n",
       "ZlAFjm45Bd        15     15      1      1                1      15   \n",
       "A8F6RYfsoT        15     15      1      1                1      15   \n",
       "ZlfbXyyznT        15     15      1      1                1      15   \n",
       "72Imeo68mP        15     15      1      1                1      15   \n",
       "lnTCMLqxTB        15     15      1      1                1      15   \n",
       "\n",
       "            tönkölyös rúd  \n",
       "ZlAFjm45Bd              1  \n",
       "A8F6RYfsoT              1  \n",
       "ZlfbXyyznT              1  \n",
       "72Imeo68mP              1  \n",
       "lnTCMLqxTB              1  \n",
       "\n",
       "[5 rows x 260 columns]"
      ]
     },
     "execution_count": 20,
     "metadata": {},
     "output_type": "execute_result"
    }
   ],
   "source": [
    "submission.head(5)"
   ]
  },
  {
   "cell_type": "code",
   "execution_count": null,
   "metadata": {
    "collapsed": true
   },
   "outputs": [],
   "source": [
    "some minor adjustment to have a properly formed csv"
   ]
  },
  {
   "cell_type": "code",
   "execution_count": 67,
   "metadata": {
    "collapsed": false
   },
   "outputs": [],
   "source": [
    "submission_to_export= submission.reset_index().rename(columns={'index': 'objectId'})\n",
    "submission_to_export.to_csv('workshop_submission.csv', encoding=('utf-8'), index=False)"
   ]
  },
  {
   "cell_type": "markdown",
   "metadata": {},
   "source": [
    "Dont forget the 'utf-8'encoding! "
   ]
  },
  {
   "cell_type": "code",
   "execution_count": null,
   "metadata": {
    "collapsed": true
   },
   "outputs": [],
   "source": []
  }
 ],
 "metadata": {
  "kernelspec": {
   "display_name": "Python 2",
   "language": "python",
   "name": "python2"
  },
  "language_info": {
   "codemirror_mode": {
    "name": "ipython",
    "version": 2
   },
   "file_extension": ".py",
   "mimetype": "text/x-python",
   "name": "python",
   "nbconvert_exporter": "python",
   "pygments_lexer": "ipython2",
   "version": "2.7.12"
  }
 },
 "nbformat": 4,
 "nbformat_minor": 0
}
